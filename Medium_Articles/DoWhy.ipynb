{
 "cells": [
  {
   "cell_type": "markdown",
   "id": "5a4bb0bb-88d6-4220-9c82-81ab0d798c97",
   "metadata": {},
   "source": [
    "# Deconfounding using Do Why"
   ]
  },
  {
   "cell_type": "code",
   "execution_count": 1,
   "id": "979c7763-b3f2-4996-8473-2e8334ecaa1d",
   "metadata": {},
   "outputs": [],
   "source": [
    "import pandas as pd\n",
    "import matplotlib.pyplot as plt\n",
    "import numpy as np\n",
    "import graphviz\n",
    "import dowhy\n",
    "from IPython.display import Image, display"
   ]
  },
  {
   "cell_type": "code",
   "execution_count": 3,
   "id": "a72e4743-dc36-4e7b-bc8b-c121e35688d4",
   "metadata": {},
   "outputs": [
    {
     "name": "stdout",
     "output_type": "stream",
     "text": [
      "digraph {\n",
      "\tcluster [label=cluster]\n",
      "\tstreaming_pre [label=streaming_pre]\n",
      "\tis_treatment [label=is_treatment]\n",
      "\tstreaming_post [label=streaming_post]\n",
      "\tcluster -> streaming_post\n",
      "\tcluster -> is_treatment\n",
      "\tstreaming_pre -> streaming_post\n",
      "\tstreaming_pre -> is_treatment\n",
      "\tis_treatment -> streaming_post\n",
      "}\n",
      "\n"
     ]
    },
    {
     "data": {
      "text/plain": [
       "'doctest-output/Digraph.gv.png'"
      ]
     },
     "execution_count": 3,
     "metadata": {},
     "output_type": "execute_result"
    }
   ],
   "source": [
    "# Create your dag\n",
    "dot = graphviz.Digraph() \n",
    "\n",
    "# Create nodes\n",
    "dot.node('cluster', 'cluster')  \n",
    "dot.node('streaming_pre', 'streaming_pre')\n",
    "dot.node('is_treatment', 'is_treatment')\n",
    "dot.node('streaming_post', 'streaming_post')\n",
    "\n",
    "# Align the nodes\n",
    "dot.edge('cluster', 'streaming_post')\n",
    "dot.edge('cluster', 'is_treatment')\n",
    "dot.edge('streaming_pre', 'streaming_post')\n",
    "dot.edge('streaming_pre', 'is_treatment')\n",
    "dot.edge('is_treatment', 'streaming_post')\n",
    "\n",
    "# Print your nodes\n",
    "print(dot.source)\n",
    "\n",
    "# Save your dag\n",
    "dot.format = 'png'\n",
    "dot.render(directory='doctest-output', view = True).replace('\\\\', '/')"
   ]
  },
  {
   "cell_type": "markdown",
   "id": "2100d0bf-616d-48f3-aac2-ce37ec91b21a",
   "metadata": {},
   "source": [
    "## Create data"
   ]
  },
  {
   "cell_type": "code",
   "execution_count": 5,
   "id": "7e27c1e8-c0c7-4eb8-87c8-e2d96cfd2730",
   "metadata": {},
   "outputs": [
    {
     "data": {
      "text/html": [
       "<div>\n",
       "<style scoped>\n",
       "    .dataframe tbody tr th:only-of-type {\n",
       "        vertical-align: middle;\n",
       "    }\n",
       "\n",
       "    .dataframe tbody tr th {\n",
       "        vertical-align: top;\n",
       "    }\n",
       "\n",
       "    .dataframe thead th {\n",
       "        text-align: right;\n",
       "    }\n",
       "</style>\n",
       "<table border=\"1\" class=\"dataframe\">\n",
       "  <thead>\n",
       "    <tr style=\"text-align: right;\">\n",
       "      <th></th>\n",
       "      <th>streaming_pre</th>\n",
       "      <th>streaming_post</th>\n",
       "      <th>cluster</th>\n",
       "      <th>is_treatment</th>\n",
       "    </tr>\n",
       "  </thead>\n",
       "  <tbody>\n",
       "    <tr>\n",
       "      <th>0</th>\n",
       "      <td>13.714523</td>\n",
       "      <td>16.122251</td>\n",
       "      <td>0</td>\n",
       "      <td>1</td>\n",
       "    </tr>\n",
       "    <tr>\n",
       "      <th>1</th>\n",
       "      <td>14.360030</td>\n",
       "      <td>17.433372</td>\n",
       "      <td>0</td>\n",
       "      <td>1</td>\n",
       "    </tr>\n",
       "    <tr>\n",
       "      <th>2</th>\n",
       "      <td>16.103542</td>\n",
       "      <td>16.850052</td>\n",
       "      <td>0</td>\n",
       "      <td>1</td>\n",
       "    </tr>\n",
       "    <tr>\n",
       "      <th>3</th>\n",
       "      <td>14.266474</td>\n",
       "      <td>16.310738</td>\n",
       "      <td>0</td>\n",
       "      <td>1</td>\n",
       "    </tr>\n",
       "    <tr>\n",
       "      <th>4</th>\n",
       "      <td>14.011724</td>\n",
       "      <td>15.348387</td>\n",
       "      <td>0</td>\n",
       "      <td>1</td>\n",
       "    </tr>\n",
       "  </tbody>\n",
       "</table>\n",
       "</div>"
      ],
      "text/plain": [
       "   streaming_pre  streaming_post  cluster  is_treatment\n",
       "0      13.714523       16.122251        0             1\n",
       "1      14.360030       17.433372        0             1\n",
       "2      16.103542       16.850052        0             1\n",
       "3      14.266474       16.310738        0             1\n",
       "4      14.011724       15.348387        0             1"
      ]
     },
     "execution_count": 5,
     "metadata": {},
     "output_type": "execute_result"
    }
   ],
   "source": [
    "# Generate Treatment Data\n",
    "tr_cluster_n = [7000, 13000, 25000, 16000, 1000, 1000]\n",
    "treatment = pd.DataFrame( \n",
    "  [(np.random.normal(14), np.random.normal(17)) for x in range(tr_cluster_n[0])] +\n",
    "  [(np.random.normal(17), np.random.normal(19)) for x in range(tr_cluster_n[1])] +\n",
    "  [(np.random.normal(19), np.random.normal(21)) for x in range(tr_cluster_n[2])] +\n",
    "  [(np.random.normal(16), np.random.normal(18)) for x in range(tr_cluster_n[3])] +\n",
    "  [(np.random.normal(11), np.random.normal(14)) for x in range(tr_cluster_n[4])] +\n",
    "  [(np.random.normal(12), np.random.normal(15)) for x in range(tr_cluster_n[5])])\n",
    "\n",
    "treatment['cluster'] = np.concatenate([np.repeat(i, x) for i,x in enumerate(tr_cluster_n)])\n",
    "treatment.columns = ['streaming_pre', 'streaming_post', 'cluster']\n",
    "\n",
    "treatment['is_treatment'] = 1\n",
    "\n",
    "# Generate Control group Data\n",
    "ctr_cluster_n = [690, 2130, 7800, 7700, 1200, 100]\n",
    "control = pd.DataFrame(\n",
    "  [(np.random.normal(12), np.random.normal(13)) for x in range(ctr_cluster_n[0])] +\n",
    " [(np.random.normal(16), np.random.normal(16)) for x in range(ctr_cluster_n[1])] +\n",
    " [(np.random.normal(20), np.random.normal(20)) for x in range(ctr_cluster_n[2])] +\n",
    " [(np.random.normal(14), np.random.normal(15)) for x in range(ctr_cluster_n[3])] +\n",
    " [(np.random.normal(10), np.random.normal(9)) for x in range(ctr_cluster_n[4])] +\n",
    " [(np.random.normal(12), np.random.normal(12)) for x in range(ctr_cluster_n[5])])\n",
    "\n",
    "control['cluster'] = np.concatenate([np.repeat(i, x) for i,x in enumerate(ctr_cluster_n)])\n",
    "control.columns = ['streaming_pre', 'streaming_post', 'cluster']\n",
    "control['is_treatment'] = 0\n",
    "\n",
    "# Treatment and Control in single dataframe\n",
    "df = pd.concat([treatment, control])\n",
    "df.head()"
   ]
  },
  {
   "cell_type": "code",
   "execution_count": 7,
   "id": "547326d8-6201-4b79-bd5f-14860aa874a1",
   "metadata": {},
   "outputs": [
    {
     "name": "stdout",
     "output_type": "stream",
     "text": [
      "is_treatment\n",
      "0    16.643007\n",
      "1    19.172541\n",
      "Name: streaming_post, dtype: float64\n",
      "is_treatment\n",
      "0    16.274409\n",
      "1    17.028754\n",
      "Name: streaming_pre, dtype: float64\n"
     ]
    }
   ],
   "source": [
    "print(df.groupby('is_treatment')['streaming_post'].mean())\n",
    "print(df.groupby('is_treatment')['streaming_pre'].mean())"
   ]
  },
  {
   "cell_type": "code",
   "execution_count": 8,
   "id": "c0747c4c-b13f-4085-9268-1a588efa1698",
   "metadata": {},
   "outputs": [],
   "source": [
    "# Initializing causal model\n",
    "model = dowhy.CausalModel(data=df,\n",
    "                     graph=dot.source.replace(\"\\t\", ' ').replace(\"\\n\", ' '),\n",
    "                     treatment=\"is_treatment\",\n",
    "                     outcome=\"streaming_post\")"
   ]
  },
  {
   "cell_type": "markdown",
   "id": "79c1c6ad-00f1-4b91-b9ad-9d516a4bce38",
   "metadata": {},
   "source": [
    "- The dag helps to identify the estimand which is what we need to control for\n",
    "- dowhy will allow us to use any tehcnique to estimate the causal effect - here we choose propensity score stratification using average treatment effect"
   ]
  },
  {
   "cell_type": "code",
   "execution_count": 9,
   "id": "3418b2c9-2ed9-4188-adce-709af368c045",
   "metadata": {},
   "outputs": [],
   "source": [
    "# Estimate\n",
    "identified_estimand = model.identify_effect(proceed_when_unidentifiable=True)"
   ]
  },
  {
   "cell_type": "code",
   "execution_count": 10,
   "id": "83ea1dad-02e0-4143-a868-9b1a3cf7aca7",
   "metadata": {},
   "outputs": [
    {
     "name": "stdout",
     "output_type": "stream",
     "text": [
      "propensity_score_stratification\n"
     ]
    },
    {
     "name": "stderr",
     "output_type": "stream",
     "text": [
      "C:\\Users\\wallj\\anaconda3\\envs\\datascience\\lib\\site-packages\\sklearn\\utils\\validation.py:993: DataConversionWarning: A column-vector y was passed when a 1d array was expected. Please change the shape of y to (n_samples, ), for example using ravel().\n",
      "  y = column_or_1d(y, warn=True)\n"
     ]
    },
    {
     "name": "stdout",
     "output_type": "stream",
     "text": [
      "Estimated average treatment effect on the treated 1.8494783632434122\n"
     ]
    }
   ],
   "source": [
    "# Estimate Causal Effect with propensity score stratifications\n",
    "estimate = model.estimate_effect(identified_estimand, \n",
    "                                 method_name=\"backdoor.propensity_score_stratification\",\n",
    "                                target_units=\"att\")\n",
    "print(f\"Estimated average treatment effect on the treated {estimate.value}\")"
   ]
  },
  {
   "cell_type": "markdown",
   "id": "f0d2e6d0-8ae4-4d13-ac8b-e0fcf16bd4de",
   "metadata": {},
   "source": [
    "1.84 "
   ]
  }
 ],
 "metadata": {
  "kernelspec": {
   "display_name": "Python 3 (ipykernel)",
   "language": "python",
   "name": "python3"
  },
  "language_info": {
   "codemirror_mode": {
    "name": "ipython",
    "version": 3
   },
   "file_extension": ".py",
   "mimetype": "text/x-python",
   "name": "python",
   "nbconvert_exporter": "python",
   "pygments_lexer": "ipython3",
   "version": "3.10.4"
  }
 },
 "nbformat": 4,
 "nbformat_minor": 5
}
