{
 "cells": [
  {
   "cell_type": "markdown",
   "id": "d343bad0-2a3d-477e-805d-0df2b35ad729",
   "metadata": {},
   "source": [
    "# Causal Inference in Data Science: Structure of M-Bias with Confounding Adjustment"
   ]
  },
  {
   "cell_type": "markdown",
   "id": "fc1a823a-aad8-4315-9bbf-0fdbf8d6b781",
   "metadata": {},
   "source": [
    "- https://towardsdatascience.com/causal-inference-in-data-science-structure-of-m-bias-with-confounding-adjustment-70e4a263ad08"
   ]
  },
  {
   "cell_type": "markdown",
   "id": "0b7a8d75-278b-4dc1-97a6-0270fd26b01d",
   "metadata": {},
   "source": [
    "Example:\n",
    "- dataset contains...\n",
    "    - binary intervention\n",
    "    - continuous outcome\n",
    "    - other binary variable that may be a confounder\n",
    "- model goal\n",
    "    - Recover an unbiased estimate of mean causal effect difference of intervention on outcome\n",
    "    - is binary variable a confounder\n",
    "    - adjust for confounder\n",
    "- to be a confounder\n",
    "    - not a downstream consequence of intervention (it occurs before intervention)\n",
    "        - how was data collected? look at timestamp to ensure this isn't true\n",
    "    - it's associated with intervention\n",
    "        - run logistic regression on intervention with confounder as feature\n",
    "    - it's associated wtih the outcome when conditioned on the intervention\n",
    "        - run OLS regression on continuous outcome with both vars"
   ]
  },
  {
   "cell_type": "markdown",
   "id": "cfec9cfd-6984-4ddd-854a-7bf6a29064e0",
   "metadata": {},
   "source": [
    "# Code"
   ]
  },
  {
   "cell_type": "code",
   "execution_count": 1,
   "id": "36bd2c09-b9c7-4a94-b1a2-5d4f7175c9cb",
   "metadata": {},
   "outputs": [],
   "source": [
    "######################\n",
    "## import libraries ##\n",
    "######################\n",
    "import numpy as np\n",
    "np.random.seed(10815652)\n",
    "import pandas as pd\n",
    "import statsmodels.api as sm\n",
    "import statsmodels.formula.api as smf"
   ]
  },
  {
   "cell_type": "code",
   "execution_count": 2,
   "id": "96459230-efce-44df-9405-f7dca1030959",
   "metadata": {},
   "outputs": [],
   "source": [
    "def simulate_dataset(n=100000, A_on_Y=0):\n",
    " \n",
    "    ## A: observed binary intervention (0, 1)\n",
    "    ## L: direct binary determinant of intervention A (0, 1)\n",
    "    ## U1: binary unmeasured common cause of A and Y\n",
    "    ## U2: binary unmeasured common cause of L and Y\n",
    "    ## Y: countinuous outcome\n",
    "    \n",
    "    ## specify dataframe\n",
    "    df = pd.DataFrame()\n",
    "    \n",
    "    ## specify variables Z, U1, and U2\n",
    "    U1_split = 0.52\n",
    "    U2_split = 0.23\n",
    "    df['U1'] = np.random.choice([0, 1], size=n, replace=True, p=[U1_split, (1-U1_split)])\n",
    "    df['U2'] = np.random.choice([0, 1], size=n, replace=True, p=[U2_split, (1-U2_split)])\n",
    "    \n",
    "    ## specify variable A\n",
    "    lambda_0 = -2.32\n",
    "    lambda_1 = 5.18\n",
    "    df['A'] = 0\n",
    "    df.loc[df['U1']==0, 'A'] = np.random.binomial(1, (1/(1+np.exp(-lambda_0))), size=df.loc[df['U1']==0, 'A'].shape[0])\n",
    "    df.loc[df['U1']==1, 'A'] = np.random.binomial(1, (1/(1+np.exp(-(lambda_0+lambda_1)))), size=df.loc[df['U1']==1, 'A'].shape[0])\n",
    "\n",
    "    ## specify variable L\n",
    "    Beta_0 = -0.52\n",
    "    Beta_1 = 2.32\n",
    "    Beta_2 = 1.98\n",
    "    df['L'] = 0\n",
    "    df.loc[(df['U1']==0) & (df['U2']==0), 'L'] = np.random.binomial(1, (1/(1+np.exp(-Beta_0))), size=df.loc[(df['U1']==0) & (df['U2']==0), 'L'].shape[0])\n",
    "    df.loc[(df['U1']==1) & (df['U2']==0), 'L'] = np.random.binomial(1, (1/(1+np.exp(-(Beta_0+Beta_1)))), size=df.loc[(df['U1']==1) & (df['U2']==0), 'L'].shape[0])\n",
    "    df.loc[(df['U1']==0) & (df['U2']==1), 'L'] = np.random.binomial(1, (1/(1+np.exp(-(Beta_0+Beta_2)))), size=df.loc[(df['U1']==0) & (df['U2']==1), 'L'].shape[0])\n",
    "    df.loc[(df['U1']==1) & (df['U2']==1), 'L'] = np.random.binomial(1, (1/(1+np.exp(-(Beta_0+Beta_1+Beta_2)))), size=df.loc[(df['U1']==1) & (df['U2']==1), 'L'].shape[0])\n",
    "    \n",
    "    ## specify variable Y\n",
    "    theta_0 = -0.5\n",
    "    theta_1 = 5.78\n",
    "    theta_2 = A_on_Y\n",
    "    df['Y'] = theta_0 + (theta_1*df['U2']) + (theta_2*df['A']) + np.random.normal(0, 0.5, df.shape[0])\n",
    "    \n",
    "    df = df[['A', 'L', 'Y', 'U1', 'U2']]\n",
    "    df_observed = df[['A', 'L', 'Y']].copy()\n",
    "    \n",
    "    return(df, df_observed)"
   ]
  },
  {
   "cell_type": "code",
   "execution_count": 3,
   "id": "1b545c1d-2d5b-41e3-9a9f-ac09b6c194bc",
   "metadata": {},
   "outputs": [],
   "source": [
    "#################################################################\n",
    "## simulate dataset with no causal effect difference of A on Y ##\n",
    "#################################################################\n",
    "df, df_observed = simulate_dataset(n=1000000, A_on_Y=0)"
   ]
  },
  {
   "cell_type": "code",
   "execution_count": 4,
   "id": "ae35c001-b066-4ec1-afae-1679aa96de86",
   "metadata": {},
   "outputs": [
    {
     "name": "stdout",
     "output_type": "stream",
     "text": [
      "   A  L         Y  U1  U2\n",
      "0  0  0  5.247234   0   1\n",
      "1  0  1  4.307400   0   1\n",
      "2  0  1  4.864241   0   1\n",
      "3  1  1  5.213704   1   1\n",
      "4  1  1  4.334214   1   1\n",
      "5  0  1  4.410975   0   1\n",
      "6  1  1  5.623942   1   1\n",
      "7  0  1 -0.863473   0   0\n",
      "8  1  1 -0.259578   1   0\n",
      "9  0  1  5.305411   1   1\n"
     ]
    }
   ],
   "source": [
    "#####################\n",
    "## the \"true\" data ##\n",
    "#####################\n",
    "print(df.head(n=10))"
   ]
  },
  {
   "cell_type": "code",
   "execution_count": 5,
   "id": "b8e1c989-f098-483a-82eb-4b4cc6c53b52",
   "metadata": {},
   "outputs": [
    {
     "name": "stdout",
     "output_type": "stream",
     "text": [
      "   A  L         Y\n",
      "0  0  0  5.247234\n",
      "1  0  1  4.307400\n",
      "2  0  1  4.864241\n",
      "3  1  1  5.213704\n",
      "4  1  1  4.334214\n",
      "5  0  1  4.410975\n",
      "6  1  1  5.623942\n",
      "7  0  1 -0.863473\n",
      "8  1  1 -0.259578\n",
      "9  0  1  5.305411\n"
     ]
    }
   ],
   "source": [
    "##############################################\n",
    "## data we get to \"observe\" in our analysis ##\n",
    "##############################################\n",
    "print(df_observed.head(n=10))"
   ]
  },
  {
   "cell_type": "code",
   "execution_count": 6,
   "id": "0ddd9e7e-dcf3-4831-8c89-37be1ce0f482",
   "metadata": {},
   "outputs": [
    {
     "name": "stdout",
     "output_type": "stream",
     "text": [
      "                 Generalized Linear Model Regression Results                  \n",
      "==============================================================================\n",
      "Dep. Variable:                      A   No. Observations:              1000000\n",
      "Model:                            GLM   Df Residuals:                   999998\n",
      "Model Family:                Binomial   Df Model:                            1\n",
      "Link Function:                  Logit   Scale:                          1.0000\n",
      "Method:                          IRLS   Log-Likelihood:            -6.5465e+05\n",
      "Date:                Sat, 10 Sep 2022   Deviance:                   1.3093e+06\n",
      "Time:                        20:16:19   Pearson chi2:                 1.00e+06\n",
      "No. Iterations:                     5   Pseudo R-squ. (CS):            0.07410\n",
      "Covariance Type:            nonrobust                                         \n",
      "==============================================================================\n",
      "                 coef    std err          z      P>|z|      [0.025      0.975]\n",
      "------------------------------------------------------------------------------\n",
      "Intercept     -1.3438      0.006   -227.188      0.000      -1.355      -1.332\n",
      "L              1.5968      0.006    252.778      0.000       1.584       1.609\n",
      "==============================================================================\n"
     ]
    }
   ],
   "source": [
    "##############################################\n",
    "## show L is associated with Intervention A ##\n",
    "##############################################\n",
    "model = smf.glm('A ~ L', data=df_observed, family=sm.families.Binomial()).fit()\n",
    "print(model.summary())"
   ]
  },
  {
   "cell_type": "code",
   "execution_count": 7,
   "id": "be583a35-cda5-48a9-9574-6287ff197600",
   "metadata": {},
   "outputs": [
    {
     "name": "stdout",
     "output_type": "stream",
     "text": [
      "                            OLS Regression Results                            \n",
      "==============================================================================\n",
      "Dep. Variable:                      Y   R-squared:                       0.105\n",
      "Model:                            OLS   Adj. R-squared:                  0.105\n",
      "Method:                 Least Squares   F-statistic:                 5.852e+04\n",
      "Date:                Sat, 10 Sep 2022   Prob (F-statistic):               0.00\n",
      "Time:                        20:20:09   Log-Likelihood:            -2.2717e+06\n",
      "No. Observations:             1000000   AIC:                         4.543e+06\n",
      "Df Residuals:                  999997   BIC:                         4.543e+06\n",
      "Df Model:                           2                                         \n",
      "Covariance Type:            nonrobust                                         \n",
      "==============================================================================\n",
      "                 coef    std err          t      P>|t|      [0.025      0.975]\n",
      "------------------------------------------------------------------------------\n",
      "Intercept      2.3633      0.006    413.834      0.000       2.352       2.374\n",
      "L              2.1978      0.006    342.101      0.000       2.185       2.210\n",
      "A             -0.4447      0.005    -91.247      0.000      -0.454      -0.435\n",
      "==============================================================================\n",
      "Omnibus:                   133631.400   Durbin-Watson:                   2.000\n",
      "Prob(Omnibus):                  0.000   Jarque-Bera (JB):           196375.430\n",
      "Skew:                          -1.085   Prob(JB):                         0.00\n",
      "Kurtosis:                       3.072   Cond. No.                         5.00\n",
      "==============================================================================\n",
      "\n",
      "Notes:\n",
      "[1] Standard Errors assume that the covariance matrix of the errors is correctly specified.\n"
     ]
    }
   ],
   "source": [
    "######################################################################\n",
    "## show L is associated with Outcome Y, condition on Intervention A ##\n",
    "######################################################################\n",
    "model = smf.ols(formula='Y ~ L + A', data=df).fit()\n",
    "print(model.summary())"
   ]
  },
  {
   "cell_type": "code",
   "execution_count": 8,
   "id": "e960ced1-9d61-47d9-9be1-a0eec816567e",
   "metadata": {},
   "outputs": [
    {
     "name": "stdout",
     "output_type": "stream",
     "text": [
      "                            OLS Regression Results                            \n",
      "==============================================================================\n",
      "Dep. Variable:                      Y   R-squared:                       0.000\n",
      "Model:                            OLS   Adj. R-squared:                  0.000\n",
      "Method:                 Least Squares   F-statistic:                     1.271\n",
      "Date:                Sat, 10 Sep 2022   Prob (F-statistic):              0.260\n",
      "Time:                        20:21:38   Log-Likelihood:            -2.3270e+06\n",
      "No. Observations:             1000000   AIC:                         4.654e+06\n",
      "Df Residuals:                  999998   BIC:                         4.654e+06\n",
      "Df Model:                           1                                         \n",
      "Covariance Type:            nonrobust                                         \n",
      "==============================================================================\n",
      "                 coef    std err          t      P>|t|      [0.025      0.975]\n",
      "------------------------------------------------------------------------------\n",
      "Intercept      3.9527      0.004   1126.182      0.000       3.946       3.960\n",
      "A              0.0056      0.005      1.128      0.260      -0.004       0.015\n",
      "==============================================================================\n",
      "Omnibus:                   161971.631   Durbin-Watson:                   2.000\n",
      "Prob(Omnibus):                  0.000   Jarque-Bera (JB):           248827.858\n",
      "Skew:                          -1.212   Prob(JB):                         0.00\n",
      "Kurtosis:                       2.690   Cond. No.                         2.62\n",
      "==============================================================================\n",
      "\n",
      "Notes:\n",
      "[1] Standard Errors assume that the covariance matrix of the errors is correctly specified.\n"
     ]
    }
   ],
   "source": [
    "############################################\n",
    "## Estimate the marginal effect of A on Y ##\n",
    "############################################\n",
    "model = smf.ols(formula='Y ~ A', data=df).fit()\n",
    "print(model.summary())"
   ]
  },
  {
   "cell_type": "code",
   "execution_count": null,
   "id": "0875553c-5bd9-4206-9f2d-ce1e89f3cf03",
   "metadata": {},
   "outputs": [],
   "source": []
  }
 ],
 "metadata": {
  "kernelspec": {
   "display_name": "Python 3 (ipykernel)",
   "language": "python",
   "name": "python3"
  },
  "language_info": {
   "codemirror_mode": {
    "name": "ipython",
    "version": 3
   },
   "file_extension": ".py",
   "mimetype": "text/x-python",
   "name": "python",
   "nbconvert_exporter": "python",
   "pygments_lexer": "ipython3",
   "version": "3.10.5"
  }
 },
 "nbformat": 4,
 "nbformat_minor": 5
}
